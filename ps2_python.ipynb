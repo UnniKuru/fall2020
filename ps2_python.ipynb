{
 "cells": [
  {
   "cell_type": "code",
   "execution_count": 1,
   "metadata": {
    "collapsed": false
   },
   "outputs": [],
   "source": [
    "import random as rd\n",
    "import numpy as np\n",
    "import matplotlib.pyplot as plt\n",
    "%matplotlib inline"
   ]
  },
  {
   "cell_type": "code",
   "execution_count": 2,
   "metadata": {
    "collapsed": false
   },
   "outputs": [],
   "source": [
    "class State:\n",
    "    \n",
    "    parallel = 1\n",
    "    antiparallel = -1\n",
    "       \n",
    "    def __init__(self,N=100,mu_H=3):\n",
    "        self.state = self.initialize_particles(N) #adding abstraction for future optimization of initalization fx\n",
    "        self.N=N\n",
    "        self.mu_H = mu_H\n",
    "        \n",
    "    def initialize_particles(self,N): #initializes particles in N-d numpy array of 1's and -1's\n",
    "        states_temp = [rd.randint(0,1) for i in range(0,100)]\n",
    "        return np.asarray([i if i==self.parallel else self.antiparallel for i in states_temp])\n",
    "    \n",
    "    def energy(self): #returns total state energy in units Energy / unit beta\n",
    "        return np.sum(-self.mu_H * self.state)\n",
    "   \n",
    "    def magnetization(self): #returns total state magnetization in units Magnetization * H\n",
    "        return np.sum(self.mu_H * self.state) # the true magnetization is this value divided by H\n",
    "    \n",
    "    def swap(self,idx): #swaps the spin of a specific particle\n",
    "        if self.state[idx] == self.parallel:\n",
    "            self.state[idx]  = self.antiparallel\n",
    "        else:\n",
    "            self.state[idx] = self.parallel\n",
    "\n",
    "    def evolve(self): #randomly switches the spin of one particle. Can be modified for different evolution types\n",
    "        idx = rd.randint(0,99)\n",
    "        self.prev_evolve = idx\n",
    "        self.swap(idx)\n",
    "        \n",
    "    def reverse_evolve(self): #returns the last-swapped particle to its previous spin\n",
    "        self.swap(self.prev_evolve)\n",
    "        \n",
    "    \n",
    "            \n",
    "    \n"
   ]
  },
  {
   "cell_type": "code",
   "execution_count": 8,
   "metadata": {
    "collapsed": false
   },
   "outputs": [],
   "source": [
    "def metroMC(N=100,mu_H=3,num_trials=100000):\n",
    "    sys = State(N=N,mu_H = mu_H)\n",
    "    M_summed = sys.magnetization() #summed magnetization of all trials\n",
    "    \n",
    "    for i in range(num_trials): #perform each metroMC trial\n",
    "        prev_energy = sys.energy() #record energy of current state to compare with after evolution\n",
    "        sys.evolve() \n",
    "        if rd.uniform(0,1) < min(1,np.exp(-1*(sys.energy()-prev_energy))): #decision on whether to keep new state\n",
    "            continue\n",
    "        else:\n",
    "            sys.reverse_evolve()\n",
    "        \n",
    "        M_summed += sys.magnetization() #add the magnetization to the total\n",
    "        \n",
    "    return M_summed/num_trials\n",
    "        "
   ]
  },
  {
   "cell_type": "code",
   "execution_count": 9,
   "metadata": {
    "collapsed": false
   },
   "outputs": [],
   "source": [
    "mu_H_arr = np.arange(-3,3,0.5)\n",
    "N=100\n",
    "y_metroMC = []\n",
    "y_analytical = []\n",
    "\n",
    "for val in mu_H_arr:\n",
    "    y_metroMC.append(metroMC(N=N,mu_H=val))\n",
    "    y_analytical.append(N*val*np.tanh(val))"
   ]
  },
  {
   "cell_type": "code",
   "execution_count": 14,
   "metadata": {
    "collapsed": false
   },
   "outputs": [
    {
     "data": {
      "image/png": "[encoded data removed]",
      "text/plain": [
       "<matplotlib.figure.Figure at 0x1c8acded940>"
      ]
     },
     "metadata": {},
     "output_type": "display_data"
    }
   ],
   "source": [
    "plt.plot(mu_H_arr,y_metroMC,'o',label='metroMC')\n",
    "plt.plot(mu_H_arr,y_analytical,'ro',label='analytical')\n",
    "plt.title(\"Metropolis MC estimate vs. analytical solution\")\n",
    "plt.xlabel('mu_H in units of beta^-1')\n",
    "plt.ylabel('Magnetization in units of Mag * H')\n",
    "plt.legend(loc='lower left')\n",
    "plt.show()\n",
    "    "
   ]
  },
  {
   "cell_type": "code",
   "execution_count": null,
   "metadata": {
    "collapsed": true
   },
   "outputs": [],
   "source": []
  }
 ],
 "metadata": {
  "kernelspec": {
   "display_name": "Python 3",
   "language": "python",
   "name": "python3"
  },
  "language_info": {
   "codemirror_mode": {
    "name": "ipython",
    "version": 3
   },
   "file_extension": ".py",
   "mimetype": "text/x-python",
   "name": "python",
   "nbconvert_exporter": "python",
   "pygments_lexer": "ipython3",
   "version": "3.6.0"
  }
 },
 "nbformat": 4,
 "nbformat_minor": 2
}
