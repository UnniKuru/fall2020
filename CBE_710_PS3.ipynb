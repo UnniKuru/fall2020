{
 "cells": [
  {
   "cell_type": "code",
   "execution_count": 1,
   "metadata": {
    "collapsed": false
   },
   "outputs": [],
   "source": [
    "import random as rd\n",
    "import numpy as np\n",
    "import matplotlib.pyplot as plt\n",
    "%matplotlib inline"
   ]
  },
  {
   "cell_type": "code",
   "execution_count": 19,
   "metadata": {
    "collapsed": false
   },
   "outputs": [],
   "source": [
    "class State:\n",
    "    \n",
    "    parallel = 1\n",
    "    antiparallel = -1\n",
    "       \n",
    "    def __init__(self,N=100,J=3):\n",
    "        self.state = self.initialize_particles(N) #adding abstraction for future optimization of initalization fx\n",
    "        self.N=N\n",
    "        self.J = J\n",
    "        \n",
    "    def initialize_particles(self,N): #initializes particles in N-d numpy array of 1's and -1's\n",
    "        states_temp = [rd.randint(0,1) for i in range(0,N)]\n",
    "        return np.asarray([i if i==self.parallel else self.antiparallel for i in states_temp])\n",
    "    \n",
    "    def energy(self): #returns total state energy in units Energy / unit beta\n",
    "        temp_e = np.roll(self.state,-1) #shifts all array elements one to the left\n",
    "        temp_e[-1] = 0 #makes last element 0\n",
    "        return -self.J*np.inner(self.state,temp_e)  #sum of pairwise interactions, i.e. inner product\n",
    "        #source for rolling: https://stackoverflow.com/questions/30399534/shift-elements-in-a-numpy-array/30534478\n",
    "    \n",
    "    def swap(self,idx): #swaps the spin of a specific particle\n",
    "        if self.state[idx] == self.parallel:\n",
    "            self.state[idx]  = self.antiparallel\n",
    "        else:\n",
    "            self.state[idx] = self.parallel\n",
    "\n",
    "    def evolve(self): #randomly switches the spin of one particle. Can be modified for different evolution types\n",
    "        idx = rd.randint(0,N-1)\n",
    "        self.prev_evolve = idx\n",
    "        self.swap(idx)\n",
    "        \n",
    "    def reverse_evolve(self): #returns the last-swapped particle to its previous spin\n",
    "        self.swap(self.prev_evolve)\n",
    "        \n",
    "    \n",
    "            \n",
    "    \n"
   ]
  },
  {
   "cell_type": "code",
   "execution_count": 20,
   "metadata": {
    "collapsed": false
   },
   "outputs": [],
   "source": [
    "def metroMC(N=100,J=3,num_trials=100000):\n",
    "    sys = State(N=N,J=J)\n",
    "    E_summed = sys.energy() #summed energy of all trials\n",
    "    \n",
    "    for i in range(num_trials): #perform each metroMC trial\n",
    "        prev_energy = sys.energy() #record energy of current state to compare with after evolution\n",
    "        sys.evolve() \n",
    "        if rd.uniform(0,1) < min(1,np.exp(-1*(sys.energy()-prev_energy))): #decision on whether to keep new state\n",
    "            continue\n",
    "        else:\n",
    "            sys.reverse_evolve()\n",
    "        \n",
    "        E_summed += sys.energy() #add the energy to the total\n",
    "        \n",
    "    return E_summed/(num_trials*N)\n",
    "        "
   ]
  },
  {
   "cell_type": "code",
   "execution_count": 29,
   "metadata": {
    "collapsed": false
   },
   "outputs": [
    {
     "name": "stdout",
     "output_type": "stream",
     "text": [
      "Computing <E>/N for J = -3.0Beta\n",
      "Final Result: <E>/N empirical = -2.92     <E>/N analytical = -2.99\n",
      "Computing <E>/N for J = -2.0Beta\n",
      "Final Result: <E>/N empirical = -1.87     <E>/N analytical = -1.93\n",
      "Computing <E>/N for J = -1.0Beta\n",
      "Final Result: <E>/N empirical = -0.571     <E>/N analytical = -0.762\n",
      "Computing <E>/N for J = 0.0Beta\n",
      "Final Result: <E>/N empirical = -0.0     <E>/N analytical = 0.0\n",
      "Computing <E>/N for J = 1.0Beta\n",
      "Final Result: <E>/N empirical = -0.587     <E>/N analytical = -0.762\n",
      "Computing <E>/N for J = 2.0Beta\n",
      "Final Result: <E>/N empirical = -1.87     <E>/N analytical = -1.93\n",
      "Computing <E>/N for J = 3.0Beta\n",
      "Final Result: <E>/N empirical = -2.79     <E>/N analytical = -2.99\n",
      "Standard error: 0.11600129507777049\n"
     ]
    },
    {
     "data": {
      "image/png": "[encoded data removed]",
      "text/plain": [
       "<matplotlib.figure.Figure at 0x2152ff03978>"
      ]
     },
     "metadata": {},
     "output_type": "display_data"
    }
   ],
   "source": [
    "#100K trials\n",
    "J_arr = np.arange(-3,3.5,1)\n",
    "N=100\n",
    "y_metroMC = []\n",
    "y_analytical = []\n",
    "\n",
    "for val in J_arr:\n",
    "    print(\"Computing <E>/N for J = {}Beta\".format(val))\n",
    "    y_metroMC.append(metroMC(N=N,J=val,num_trials=100000))\n",
    "    y_analytical.append(val*(1-2*(np.exp(val)/(np.exp(-val)+np.exp(val)))))\n",
    "    print(\"Final Result: <E>/N empirical = {:.3}     <E>/N analytical = {:.3}\".format(y_metroMC[-1],y_analytical[-1]))\n",
    "    \n",
    "residuals = np.asarray(y_metroMC)-np.asarray(y_analytical)\n",
    "print(\"Standard error: {}\".format(np.sum(residuals**2)))   \n",
    "plt.plot(J_arr,y_metroMC,'o',label='metroMC')\n",
    "plt.plot(J_arr,y_analytical,'ro',label='analytical')\n",
    "plt.title(\"Metropolis MC estimate vs. analytical solution\")\n",
    "plt.xlabel('J in units of beta')\n",
    "plt.ylabel('<E>/N in units of beta/N')\n",
    "plt.legend(loc='lower center')\n",
    "plt.show()\n"
   ]
  },
  {
   "cell_type": "code",
   "execution_count": 30,
   "metadata": {
    "collapsed": false
   },
   "outputs": [
    {
     "name": "stdout",
     "output_type": "stream",
     "text": [
      "Computing <E>/N for J = -3.0Beta\n",
      "Final Result: <E>/N empirical = -2.94     <E>/N analytical = -2.99\n",
      "Computing <E>/N for J = -2.0Beta\n",
      "Final Result: <E>/N empirical = -1.85     <E>/N analytical = -1.93\n",
      "Computing <E>/N for J = -1.0Beta\n",
      "Final Result: <E>/N empirical = -0.575     <E>/N analytical = -0.762\n",
      "Computing <E>/N for J = 0.0Beta\n",
      "Final Result: <E>/N empirical = -0.0     <E>/N analytical = 0.0\n",
      "Computing <E>/N for J = 1.0Beta\n",
      "Final Result: <E>/N empirical = -0.573     <E>/N analytical = -0.762\n",
      "Computing <E>/N for J = 2.0Beta\n",
      "Final Result: <E>/N empirical = -1.81     <E>/N analytical = -1.93\n",
      "Computing <E>/N for J = 3.0Beta\n",
      "Final Result: <E>/N empirical = -2.9     <E>/N analytical = -2.99\n",
      "Standard error: 0.09967239308785407\n"
     ]
    },
    {
     "data": {
      "image/png": "[encoded data removed]",
      "text/plain": [
       "<matplotlib.figure.Figure at 0x2153017c4e0>"
      ]
     },
     "metadata": {},
     "output_type": "display_data"
    }
   ],
   "source": [
    "#500K trials\n",
    "J_arr = np.arange(-3,3.5,1)\n",
    "N=100\n",
    "y_metroMC = []\n",
    "y_analytical = []\n",
    "\n",
    "for val in J_arr:\n",
    "    print(\"Computing <E>/N for J = {}Beta\".format(val))\n",
    "    y_metroMC.append(metroMC(N=N,J=val,num_trials=500000))\n",
    "    y_analytical.append(val*(1-2*(np.exp(val)/(np.exp(-val)+np.exp(val)))))\n",
    "    print(\"Final Result: <E>/N empirical = {:.3}     <E>/N analytical = {:.3}\".format(y_metroMC[-1],y_analytical[-1]))\n",
    "\n",
    "residuals = np.asarray(y_metroMC)-np.asarray(y_analytical)\n",
    "print(\"Standard error: {}\".format(np.sum(residuals**2)))  \n",
    "plt.plot(J_arr,y_metroMC,'o',label='metroMC')\n",
    "plt.plot(J_arr,y_analytical,'ro',label='analytical')\n",
    "plt.title(\"Metropolis MC estimate vs. analytical solution\")\n",
    "plt.xlabel('J in units of beta')\n",
    "plt.ylabel('<E>/N in units of beta/N')\n",
    "plt.legend(loc='lower center')\n",
    "plt.show()\n",
    "    "
   ]
  },
  {
   "cell_type": "code",
   "execution_count": null,
   "metadata": {
    "collapsed": true
   },
   "outputs": [],
   "source": []
  }
 ],
 "metadata": {
  "kernelspec": {
   "display_name": "Python 3",
   "language": "python",
   "name": "python3"
  },
  "language_info": {
   "codemirror_mode": {
    "name": "ipython",
    "version": 3
   },
   "file_extension": ".py",
   "mimetype": "text/x-python",
   "name": "python",
   "nbconvert_exporter": "python",
   "pygments_lexer": "ipython3",
   "version": "3.6.0"
  }
 },
 "nbformat": 4,
 "nbformat_minor": 2
}
